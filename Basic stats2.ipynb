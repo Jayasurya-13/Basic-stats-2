{
 "cells": [
  {
   "cell_type": "code",
   "execution_count": 3,
   "id": "cf4394b7-bd53-42a6-af32-96518fbcf0a0",
   "metadata": {},
   "outputs": [
    {
     "name": "stdout",
     "output_type": "stream",
     "text": [
      "Defaulting to user installation because normal site-packages is not writeable"
     ]
    },
    {
     "name": "stderr",
     "output_type": "stream",
     "text": [
      "\n",
      "[notice] A new release of pip is available: 23.2.1 -> 24.0\n",
      "[notice] To update, run: python.exe -m pip install --upgrade pip\n"
     ]
    },
    {
     "name": "stdout",
     "output_type": "stream",
     "text": [
      "\n",
      "Requirement already satisfied: pandas in c:\\users\\admin\\appdata\\roaming\\python\\python311\\site-packages (2.2.1)\n",
      "Requirement already satisfied: numpy<2,>=1.23.2 in c:\\users\\admin\\appdata\\roaming\\python\\python311\\site-packages (from pandas) (1.26.4)\n",
      "Requirement already satisfied: python-dateutil>=2.8.2 in c:\\users\\admin\\appdata\\roaming\\python\\python311\\site-packages (from pandas) (2.8.2)\n",
      "Requirement already satisfied: pytz>=2020.1 in c:\\users\\admin\\appdata\\roaming\\python\\python311\\site-packages (from pandas) (2024.1)\n",
      "Requirement already satisfied: tzdata>=2022.7 in c:\\users\\admin\\appdata\\roaming\\python\\python311\\site-packages (from pandas) (2024.1)\n",
      "Requirement already satisfied: six>=1.5 in c:\\users\\admin\\appdata\\roaming\\python\\python311\\site-packages (from python-dateutil>=2.8.2->pandas) (1.16.0)\n"
     ]
    }
   ],
   "source": [
    "!pip install pandas"
   ]
  },
  {
   "cell_type": "code",
   "execution_count": 1,
   "id": "6e1f1756-6ab3-4064-8dde-f0226c2e83ca",
   "metadata": {},
   "outputs": [
    {
     "name": "stdout",
     "output_type": "stream",
     "text": [
      "Defaulting to user installation because normal site-packages is not writeable\n",
      "Requirement already satisfied: numpy in c:\\users\\admin\\appdata\\roaming\\python\\python311\\site-packages (1.26.4)\n"
     ]
    },
    {
     "name": "stderr",
     "output_type": "stream",
     "text": [
      "\n",
      "[notice] A new release of pip is available: 23.2.1 -> 24.0\n",
      "[notice] To update, run: python.exe -m pip install --upgrade pip\n"
     ]
    }
   ],
   "source": [
    "!pip install numpy"
   ]
  },
  {
   "cell_type": "code",
   "execution_count": 2,
   "id": "fab70e77-c16b-4172-bac5-a1b475a6f273",
   "metadata": {},
   "outputs": [
    {
     "name": "stdout",
     "output_type": "stream",
     "text": [
      "Defaulting to user installation because normal site-packages is not writeable\n",
      "Requirement already satisfied: scipy in c:\\users\\admin\\appdata\\roaming\\python\\python311\\site-packages (1.12.0)\n",
      "Requirement already satisfied: numpy<1.29.0,>=1.22.4 in c:\\users\\admin\\appdata\\roaming\\python\\python311\\site-packages (from scipy) (1.26.4)\n"
     ]
    },
    {
     "name": "stderr",
     "output_type": "stream",
     "text": [
      "\n",
      "[notice] A new release of pip is available: 23.2.1 -> 24.0\n",
      "[notice] To update, run: python.exe -m pip install --upgrade pip\n"
     ]
    }
   ],
   "source": [
    "!pip install scipy"
   ]
  },
  {
   "cell_type": "code",
   "execution_count": 6,
   "id": "aa1efb99-2455-41c8-ba75-7667bdadfb88",
   "metadata": {},
   "outputs": [],
   "source": [
    "import pandas as pd"
   ]
  },
  {
   "cell_type": "code",
   "execution_count": 7,
   "id": "11d9264b-4bd8-4627-9fa3-9bad5f2d4ccb",
   "metadata": {},
   "outputs": [],
   "source": [
    "import numpy as np"
   ]
  },
  {
   "cell_type": "code",
   "execution_count": 4,
   "id": "1c22e6e3-bf8f-40a4-af27-06c34b18703c",
   "metadata": {},
   "outputs": [],
   "source": [
    "import scipy.stats as stats"
   ]
  },
  {
   "cell_type": "code",
   "execution_count": 5,
   "id": "d19b873a-2cf7-41ff-8295-6e370553f197",
   "metadata": {},
   "outputs": [],
   "source": [
    "import math"
   ]
  },
  {
   "cell_type": "code",
   "execution_count": 8,
   "id": "3e5a6324-6450-4227-ac0f-e3588fdfa115",
   "metadata": {},
   "outputs": [
    {
     "name": "stdout",
     "output_type": "stream",
     "text": [
      "(1.13, 1.55, 1.43, 0.92, 1.25, 1.36, 1.32, 0.85, 1.07, 1.48, 1.2, 1.33, 1.18, 1.22, 1.29)\n"
     ]
    }
   ],
   "source": [
    "CI = (1.13, 1.55, 1.43, 0.92, 1.25, 1.36, 1.32, 0.85, 1.07, 1.48, 1.20, 1.33, 1.18, 1.22, 1.29)\n",
    "CI1 = pd.DataFrame(CI)\n",
    "print(CI)"
   ]
  },
  {
   "cell_type": "code",
   "execution_count": 11,
   "id": "0175864e-50ba-43ea-a92f-b86840df2d18",
   "metadata": {},
   "outputs": [
    {
     "data": {
      "text/plain": [
       "pandas.core.frame.DataFrame"
      ]
     },
     "execution_count": 11,
     "metadata": {},
     "output_type": "execute_result"
    }
   ],
   "source": [
    "type(CI1)"
   ]
  },
  {
   "cell_type": "code",
   "execution_count": 12,
   "id": "7948ed5c-d2ec-4551-acb1-5ca0bf71ccc6",
   "metadata": {},
   "outputs": [
    {
     "data": {
      "text/plain": [
       "15"
      ]
     },
     "execution_count": 12,
     "metadata": {},
     "output_type": "execute_result"
    }
   ],
   "source": [
    "len(CI1)"
   ]
  },
  {
   "cell_type": "code",
   "execution_count": 9,
   "id": "e903f565-23aa-465e-82b1-d7367d32c548",
   "metadata": {},
   "outputs": [
    {
     "name": "stdout",
     "output_type": "stream",
     "text": [
      "0    1.238667\n",
      "dtype: float64\n"
     ]
    }
   ],
   "source": [
    "mu = CI1.mean()\n",
    "print(mu)"
   ]
  },
  {
   "cell_type": "code",
   "execution_count": 15,
   "id": "02f6dc0c-4cac-4de0-9014-99ab8db2f198",
   "metadata": {},
   "outputs": [
    {
     "data": {
      "text/html": [
       "<div>\n",
       "<style scoped>\n",
       "    .dataframe tbody tr th:only-of-type {\n",
       "        vertical-align: middle;\n",
       "    }\n",
       "\n",
       "    .dataframe tbody tr th {\n",
       "        vertical-align: top;\n",
       "    }\n",
       "\n",
       "    .dataframe thead th {\n",
       "        text-align: right;\n",
       "    }\n",
       "</style>\n",
       "<table border=\"1\" class=\"dataframe\">\n",
       "  <thead>\n",
       "    <tr style=\"text-align: right;\">\n",
       "      <th></th>\n",
       "      <th>0</th>\n",
       "    </tr>\n",
       "  </thead>\n",
       "  <tbody>\n",
       "    <tr>\n",
       "      <th>0</th>\n",
       "      <td>0.85</td>\n",
       "    </tr>\n",
       "    <tr>\n",
       "      <th>1</th>\n",
       "      <td>0.92</td>\n",
       "    </tr>\n",
       "    <tr>\n",
       "      <th>2</th>\n",
       "      <td>1.07</td>\n",
       "    </tr>\n",
       "    <tr>\n",
       "      <th>3</th>\n",
       "      <td>1.13</td>\n",
       "    </tr>\n",
       "    <tr>\n",
       "      <th>4</th>\n",
       "      <td>1.18</td>\n",
       "    </tr>\n",
       "    <tr>\n",
       "      <th>5</th>\n",
       "      <td>1.20</td>\n",
       "    </tr>\n",
       "    <tr>\n",
       "      <th>6</th>\n",
       "      <td>1.22</td>\n",
       "    </tr>\n",
       "    <tr>\n",
       "      <th>7</th>\n",
       "      <td>1.25</td>\n",
       "    </tr>\n",
       "    <tr>\n",
       "      <th>8</th>\n",
       "      <td>1.29</td>\n",
       "    </tr>\n",
       "    <tr>\n",
       "      <th>9</th>\n",
       "      <td>1.32</td>\n",
       "    </tr>\n",
       "    <tr>\n",
       "      <th>10</th>\n",
       "      <td>1.33</td>\n",
       "    </tr>\n",
       "    <tr>\n",
       "      <th>11</th>\n",
       "      <td>1.36</td>\n",
       "    </tr>\n",
       "    <tr>\n",
       "      <th>12</th>\n",
       "      <td>1.43</td>\n",
       "    </tr>\n",
       "    <tr>\n",
       "      <th>13</th>\n",
       "      <td>1.48</td>\n",
       "    </tr>\n",
       "    <tr>\n",
       "      <th>14</th>\n",
       "      <td>1.55</td>\n",
       "    </tr>\n",
       "  </tbody>\n",
       "</table>\n",
       "</div>"
      ],
      "text/plain": [
       "       0\n",
       "0   0.85\n",
       "1   0.92\n",
       "2   1.07\n",
       "3   1.13\n",
       "4   1.18\n",
       "5   1.20\n",
       "6   1.22\n",
       "7   1.25\n",
       "8   1.29\n",
       "9   1.32\n",
       "10  1.33\n",
       "11  1.36\n",
       "12  1.43\n",
       "13  1.48\n",
       "14  1.55"
      ]
     },
     "execution_count": 15,
     "metadata": {},
     "output_type": "execute_result"
    }
   ],
   "source": [
    "CI1.mode()"
   ]
  },
  {
   "cell_type": "code",
   "execution_count": 10,
   "id": "86d2a093-abb2-4d53-ba21-ff396640e1df",
   "metadata": {},
   "outputs": [
    {
     "name": "stdout",
     "output_type": "stream",
     "text": [
      "0    0.193164\n",
      "dtype: float64\n"
     ]
    }
   ],
   "source": [
    "samp_stdev = CI1.std()\n",
    "print(samp_stdev)"
   ]
  },
  {
   "cell_type": "code",
   "execution_count": 16,
   "id": "014c4c80-d3f2-40d2-a0be-9119d750d4b8",
   "metadata": {},
   "outputs": [
    {
     "data": {
      "text/plain": [
       "0    1.25\n",
       "dtype: float64"
      ]
     },
     "execution_count": 16,
     "metadata": {},
     "output_type": "execute_result"
    }
   ],
   "source": [
    "CI1.median()"
   ]
  },
  {
   "cell_type": "code",
   "execution_count": 18,
   "id": "2979af53-d094-4f5f-b36d-f1dc689432e1",
   "metadata": {},
   "outputs": [
    {
     "data": {
      "text/plain": [
       "(0    1.238667\n",
       " dtype: float64,\n",
       " 0    1.25\n",
       " dtype: float64,\n",
       "        0\n",
       " 0   0.85\n",
       " 1   0.92\n",
       " 2   1.07\n",
       " 3   1.13\n",
       " 4   1.18\n",
       " 5   1.20\n",
       " 6   1.22\n",
       " 7   1.25\n",
       " 8   1.29\n",
       " 9   1.32\n",
       " 10  1.33\n",
       " 11  1.36\n",
       " 12  1.43\n",
       " 13  1.48\n",
       " 14  1.55)"
      ]
     },
     "execution_count": 18,
     "metadata": {},
     "output_type": "execute_result"
    }
   ],
   "source": [
    "CI1.mean(), CI1.median(), CI1.mode()"
   ]
  },
  {
   "cell_type": "code",
   "execution_count": 20,
   "id": "ecfec0eb-dc56-4028-837c-10a4a529a28f",
   "metadata": {},
   "outputs": [
    {
     "name": "stdout",
     "output_type": "stream",
     "text": [
      "1.3673465734462547\n"
     ]
    }
   ],
   "source": [
    "CI1 = 1.238667+2.58*(0.193164/3.8729)\n",
    "print(CI1)"
   ]
  },
  {
   "cell_type": "code",
   "execution_count": 21,
   "id": "077b3c9d-3f04-44a9-ab98-c8e26aef3bcb",
   "metadata": {},
   "outputs": [
    {
     "name": "stdout",
     "output_type": "stream",
     "text": [
      "1.1099874265537453\n"
     ]
    }
   ],
   "source": [
    "CI1 = 1.238667-2.58*(0.193164/3.8729)\n",
    "print(CI1)"
   ]
  },
  {
   "cell_type": "code",
   "execution_count": 23,
   "id": "1242d67c-59ec-4900-bbfe-2a6745b9099f",
   "metadata": {},
   "outputs": [
    {
     "name": "stdout",
     "output_type": "stream",
     "text": [
      "Z-critical value:\n",
      "2.0335201492530506\n",
      "Confidence Interval:\n",
      "(0    1.340088\n",
      "dtype: float64, 0    1.137245\n",
      "dtype: float64)\n"
     ]
    }
   ],
   "source": [
    "n = 15\n",
    "Z_crt = stats.norm.ppf(q= 0.979)\n",
    "print(\"Z-critical value:\")\n",
    "print(Z_crt)\n",
    "mgr_er = Z_crt*(samp_stdev/math.sqrt(n))\n",
    "C_I = (mu+mgr_er, mu-mgr_er)\n",
    "print(\"Confidence Interval:\")\n",
    "print(C_I)"
   ]
  },
  {
   "cell_type": "code",
   "execution_count": 24,
   "id": "686d9da6-f999-4758-8923-79ef7df421cf",
   "metadata": {},
   "outputs": [],
   "source": [
    "#Build 99% Confidence Interval Using Known Population Standard Deviation"
   ]
  },
  {
   "cell_type": "code",
   "execution_count": 25,
   "id": "4dce56ee-77ea-456c-962a-04ff21844eb2",
   "metadata": {},
   "outputs": [
    {
     "name": "stdout",
     "output_type": "stream",
     "text": [
      "       0\n",
      "0   1.13\n",
      "1   1.55\n",
      "2   1.43\n",
      "3   0.92\n",
      "4   1.25\n",
      "5   1.36\n",
      "6   1.32\n",
      "7   0.85\n",
      "8   1.07\n",
      "9   1.48\n",
      "10  1.20\n",
      "11  1.33\n",
      "12  1.18\n",
      "13  1.22\n",
      "14  1.29\n"
     ]
    }
   ],
   "source": [
    "CI2 = (1.13, 1.55, 1.43, 0.92, 1.25, 1.36, 1.32, 0.85, 1.07, 1.48, 1.20, 1.33, 1.18, 1.22, 1.29)\n",
    "CI3 = pd.DataFrame(CI2)\n",
    "print(CI3)"
   ]
  },
  {
   "cell_type": "code",
   "execution_count": 27,
   "id": "80280ab5-c81b-4596-a75e-75bf85f4d2c0",
   "metadata": {},
   "outputs": [
    {
     "data": {
      "text/plain": [
       "(0    1.238667\n",
       " dtype: float64,\n",
       " 0    1.25\n",
       " dtype: float64,\n",
       "        0\n",
       " 0   0.85\n",
       " 1   0.92\n",
       " 2   1.07\n",
       " 3   1.13\n",
       " 4   1.18\n",
       " 5   1.20\n",
       " 6   1.22\n",
       " 7   1.25\n",
       " 8   1.29\n",
       " 9   1.32\n",
       " 10  1.33\n",
       " 11  1.36\n",
       " 12  1.43\n",
       " 13  1.48\n",
       " 14  1.55)"
      ]
     },
     "execution_count": 27,
     "metadata": {},
     "output_type": "execute_result"
    }
   ],
   "source": [
    "CI3.mean(), CI3.median(), CI3.mode()"
   ]
  },
  {
   "cell_type": "code",
   "execution_count": 28,
   "id": "800a32c4-151a-46f5-8102-283c8c1b2f81",
   "metadata": {},
   "outputs": [
    {
     "data": {
      "text/plain": [
       "0    0.193164\n",
       "dtype: float64"
      ]
     },
     "execution_count": 28,
     "metadata": {},
     "output_type": "execute_result"
    }
   ],
   "source": [
    "CI3.std()"
   ]
  },
  {
   "cell_type": "code",
   "execution_count": 31,
   "id": "44cec5ad-559b-4bb9-bc6d-09ddb1a0afe0",
   "metadata": {},
   "outputs": [
    {
     "name": "stdout",
     "output_type": "stream",
     "text": [
      "          kp\n",
      "0   0.986803\n",
      "1   1.166903\n",
      "2   1.316378\n",
      "3   1.437195\n",
      "4   1.347369\n",
      "5   1.151812\n",
      "6   1.493874\n",
      "7   1.537246\n",
      "8   1.405229\n",
      "9   1.160488\n",
      "10  1.145283\n",
      "11  0.950305\n",
      "12  1.186297\n",
      "13  1.369882\n",
      "14  1.147808\n"
     ]
    }
   ],
   "source": [
    "kp = np.random.normal(1.2386, 0.2, 15)\n",
    "kp1 = pd.DataFrame(kp, columns = ['kp'])\n",
    "print(kp1)\n"
   ]
  },
  {
   "cell_type": "code",
   "execution_count": 35,
   "id": "b1596dbe-3d19-4ed1-a5c0-cfe06d822ca7",
   "metadata": {},
   "outputs": [
    {
     "name": "stdout",
     "output_type": "stream",
     "text": [
      "99% confidence interval: (1.1205096022987735, 1.3865401088405853)\n"
     ]
    }
   ],
   "source": [
    "mean = kp1['kp'].mean()\n",
    "std = 0.2\n",
    "stderr = std/math.sqrt(len(kp1['kp']))\n",
    "CI_99 = stats.norm.interval(0.99, mean, stderr)\n",
    "print('99% confidence interval:', CI_99)"
   ]
  }
 ],
 "metadata": {
  "kernelspec": {
   "display_name": "Python 3 (ipykernel)",
   "language": "python",
   "name": "python3"
  },
  "language_info": {
   "codemirror_mode": {
    "name": "ipython",
    "version": 3
   },
   "file_extension": ".py",
   "mimetype": "text/x-python",
   "name": "python",
   "nbconvert_exporter": "python",
   "pygments_lexer": "ipython3",
   "version": "3.11.7"
  }
 },
 "nbformat": 4,
 "nbformat_minor": 5
}
